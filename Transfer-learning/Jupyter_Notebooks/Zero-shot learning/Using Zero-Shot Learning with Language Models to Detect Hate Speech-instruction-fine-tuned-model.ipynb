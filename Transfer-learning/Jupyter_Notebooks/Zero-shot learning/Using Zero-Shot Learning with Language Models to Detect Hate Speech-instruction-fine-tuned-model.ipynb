{
 "cells": [
  {
   "cell_type": "code",
   "execution_count": 16,
   "metadata": {},
   "outputs": [],
   "source": [
    "import pandas as pd\n",
    "import torch\n",
    "from datasets import Dataset\n",
    "from tqdm import tqdm\n",
    "\n",
    "from transformers import (\n",
    "    AutoModelForSeq2SeqLM,\n",
    "    AutoTokenizer,\n",
    "    DataCollatorWithPadding,\n",
    ")"
   ]
  },
  {
   "cell_type": "code",
   "execution_count": 19,
   "metadata": {},
   "outputs": [],
   "source": [
    "offload_folder = \"C:\\\\Users\\\\Owner\\\\.cache\\\\huggingface\\\\hub\\\\models--google--flan-t5-xl\\\\blobs\"\n",
    "class prompting:\n",
    "\n",
    "        def __init__(self, model=\"flant5\"):\n",
    "            if model == \"flant5\":\n",
    "                self.checkpoint = \"google/flan-t5-xl\"\n",
    "            elif model == \"mt0\":\n",
    "                self.checkpoint = \"bigscience/mt0-xxl\"\n",
    "            else:\n",
    "                raise Exception(\"Select one of the following models: flant5 or mt0\")\n",
    "            \n",
    "            self.tokenizer = AutoTokenizer.from_pretrained(self.checkpoint)\n",
    "            self.model = AutoModelForSeq2SeqLM.from_pretrained(self.checkpoint, torch_dtype=\"auto\", device_map=\"auto\", offload_folder=offload_folder)\n",
    "            \n",
    "        def build_prompt(self, prompt_template: str, output_indicator: str, input_text: str):\n",
    "            if prompt_template:\n",
    "                prompt = f\"{prompt_template} {input_text} {output_indicator}\"\n",
    "            else:\n",
    "                raise NotImplementedError(\"Insert a template\")\n",
    "            return prompt\n",
    "\n",
    "        def predict(self, prompt_template: str, output_indicator: str, data):\n",
    "            with torch.no_grad():\n",
    "\n",
    "                if isinstance(data, str):\n",
    "                    texts = [self.build_prompt(prompt_template, output_indicator, data)]\n",
    "                elif isinstance(data, pd.DataFrame):\n",
    "                    texts = data['text'].tolist()\n",
    "                    texts = [self.build_prompt(prompt_template, output_indicator, t) for t in texts]\n",
    "                elif isinstance(data, list) and all(isinstance(t, str) for t in data):\n",
    "                    texts = [self.build_prompt(prompt_template, output_indicator, t) for t in data]\n",
    "                else:\n",
    "                    raise ValueError('Input data must be either a string or a pandas DataFrame.')\n",
    "\n",
    "                raw_dataset = Dataset.from_dict({\"text\": texts})\n",
    "\n",
    "                proc_dataset = raw_dataset.map(\n",
    "                    lambda x: self.tokenizer(\n",
    "                        x[\"text\"], truncation=True\n",
    "                    ),  # truncate by default to maximum model length\n",
    "                    batched=True,\n",
    "                    load_from_cache_file=False,\n",
    "                    desc=\"Running tokenizer on dataset\",\n",
    "                    remove_columns=[\"text\"],\n",
    "                )\n",
    "                \n",
    "                proc_dataset.set_format(\"torch\")\n",
    "\n",
    "                loader = torch.utils.data.DataLoader(\n",
    "                    proc_dataset,\n",
    "                    shuffle=False,\n",
    "                    batch_size=512, #default\n",
    "                    collate_fn=DataCollatorWithPadding(self.tokenizer),\n",
    "                )\n",
    "\n",
    "                predictions = []\n",
    "                for i, batch in tqdm(\n",
    "                    enumerate(loader), desc=self.checkpoint, total=len(texts) // 512\n",
    "                ):\n",
    "                    inputs = {k: v.to(self.model.device) for k, v in batch.items()}\n",
    "                    outputs = self.model.generate(**inputs)\n",
    "\n",
    "                    decoded = self.tokenizer.batch_decode(outputs, skip_special_tokens=True)\n",
    "                    predictions.extend(decoded)\n",
    "\n",
    "                predictions =  list(map(str.lower, predictions))\n",
    "            return predictions"
   ]
  },
  {
   "cell_type": "code",
   "execution_count": 21,
   "metadata": {},
   "outputs": [
    {
     "data": {
      "application/vnd.jupyter.widget-view+json": {
       "model_id": "4588f88cbdc2444ebd2c34eb46b7d01f",
       "version_major": 2,
       "version_minor": 0
      },
      "text/plain": [
       "Loading checkpoint shards:   0%|          | 0/2 [00:00<?, ?it/s]"
      ]
     },
     "metadata": {},
     "output_type": "display_data"
    },
    {
     "data": {
      "application/vnd.jupyter.widget-view+json": {
       "model_id": "444dd5f11f4a414392ddab678adc58ef",
       "version_major": 2,
       "version_minor": 0
      },
      "text/plain": [
       "Running tokenizer on dataset:   0%|          | 0/2 [00:00<?, ? examples/s]"
      ]
     },
     "metadata": {},
     "output_type": "display_data"
    },
    {
     "name": "stderr",
     "output_type": "stream",
     "text": [
      "google/flan-t5-xl: 0it [00:00, ?it/s]You're using a T5TokenizerFast tokenizer. Please note that with a fast tokenizer, using the `__call__` method is faster than using a method to encode the text followed by a call to the `pad` method to get a padded encoding.\n",
      "c:\\Users\\Owner\\AppData\\Local\\Programs\\Python\\Python39\\lib\\site-packages\\transformers\\generation\\utils.py:1273: UserWarning: Using the model-agnostic default `max_length` (=20) to control the generation length. We recommend setting `max_new_tokens` to control the maximum length of the generation.\n",
      "  warnings.warn(\n",
      "google/flan-t5-xl: 1it [00:46, 46.20s/it]\n"
     ]
    },
    {
     "data": {
      "text/plain": [
       "['hate', 'hate']"
      ]
     },
     "execution_count": 21,
     "metadata": {},
     "output_type": "execute_result"
    }
   ],
   "source": [
    "prompt_template = \"Classify this text as hate or non-hate. Text:\"\n",
    "output_indicator = \"Answer:\"\n",
    "\n",
    "inst_lms = prompting(\"flant5\") # Models: flant5, mt0\n",
    "\n",
    "# The input can be a dataframe, a text or a list of texts\n",
    "inst_lms.predict(prompt_template, output_indicator, [\"Shut your dumbass up bitch we all know you a hoe\", \"You are not good\"]) "
   ]
  },
  {
   "cell_type": "code",
   "execution_count": null,
   "metadata": {},
   "outputs": [],
   "source": []
  }
 ],
 "metadata": {
  "kernelspec": {
   "display_name": "Python 3",
   "language": "python",
   "name": "python3"
  },
  "language_info": {
   "codemirror_mode": {
    "name": "ipython",
    "version": 3
   },
   "file_extension": ".py",
   "mimetype": "text/x-python",
   "name": "python",
   "nbconvert_exporter": "python",
   "pygments_lexer": "ipython3",
   "version": "3.9.13"
  }
 },
 "nbformat": 4,
 "nbformat_minor": 2
}
