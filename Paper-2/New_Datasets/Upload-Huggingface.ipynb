{
 "cells": [
  {
   "cell_type": "code",
   "execution_count": 1,
   "metadata": {},
   "outputs": [
    {
     "name": "stdout",
     "output_type": "stream",
     "text": [
      "(27368, 2)\n"
     ]
    },
    {
     "data": {
      "text/html": [
       "<div>\n",
       "<style scoped>\n",
       "    .dataframe tbody tr th:only-of-type {\n",
       "        vertical-align: middle;\n",
       "    }\n",
       "\n",
       "    .dataframe tbody tr th {\n",
       "        vertical-align: top;\n",
       "    }\n",
       "\n",
       "    .dataframe thead th {\n",
       "        text-align: right;\n",
       "    }\n",
       "</style>\n",
       "<table border=\"1\" class=\"dataframe\">\n",
       "  <thead>\n",
       "    <tr style=\"text-align: right;\">\n",
       "      <th></th>\n",
       "      <th>tweet</th>\n",
       "      <th>class</th>\n",
       "    </tr>\n",
       "  </thead>\n",
       "  <tbody>\n",
       "    <tr>\n",
       "      <th>0</th>\n",
       "      <td>Bitches ah have a baby &amp;amp; be like \"don't cl...</td>\n",
       "      <td>1</td>\n",
       "    </tr>\n",
       "    <tr>\n",
       "      <th>1</th>\n",
       "      <td>\"@ayyee_ceee_: One mans trash &amp;#128686; is ano...</td>\n",
       "      <td>2</td>\n",
       "    </tr>\n",
       "    <tr>\n",
       "      <th>2</th>\n",
       "      <td>RT @IKeepitRealer: ChrisBrown a bitch 4 hittin...</td>\n",
       "      <td>1</td>\n",
       "    </tr>\n",
       "    <tr>\n",
       "      <th>3</th>\n",
       "      <td>People comment on my fb statuses like \"How was...</td>\n",
       "      <td>1</td>\n",
       "    </tr>\n",
       "    <tr>\n",
       "      <th>4</th>\n",
       "      <td>RT @TreLeKidd: Yo bitch is Gucci Mane RT @Jaba...</td>\n",
       "      <td>1</td>\n",
       "    </tr>\n",
       "  </tbody>\n",
       "</table>\n",
       "</div>"
      ],
      "text/plain": [
       "                                               tweet  class\n",
       "0  Bitches ah have a baby &amp; be like \"don't cl...      1\n",
       "1  \"@ayyee_ceee_: One mans trash &#128686; is ano...      2\n",
       "2  RT @IKeepitRealer: ChrisBrown a bitch 4 hittin...      1\n",
       "3  People comment on my fb statuses like \"How was...      1\n",
       "4  RT @TreLeKidd: Yo bitch is Gucci Mane RT @Jaba...      1"
      ]
     },
     "execution_count": 1,
     "metadata": {},
     "output_type": "execute_result"
    }
   ],
   "source": [
    "import pandas as pd\n",
    "\n",
    "DATASET_PATH = \"D:\\\\FYP\\\\Coding_Work\\\\AiLERT-FYP\\\\Paper-2\\\\New_Datasets\\\\OUTPUTS_data\\\\FR_GE_RO_PO_merged.csv\"\n",
    "merged_df = pd.read_csv(DATASET_PATH)\n",
    "\n",
    "print(merged_df.shape)\n",
    "merged_df.head()\n",
    "\n",
    "    # 0 - hate speech\n",
    "    # 1 - offensive  language\n",
    "    # 2 - neither"
   ]
  },
  {
   "cell_type": "code",
   "execution_count": 2,
   "metadata": {},
   "outputs": [
    {
     "data": {
      "text/plain": [
       "class\n",
       "1    17285\n",
       "0     6330\n",
       "2     3753\n",
       "Name: count, dtype: int64"
      ]
     },
     "execution_count": 2,
     "metadata": {},
     "output_type": "execute_result"
    }
   ],
   "source": [
    "merged_df['class'].value_counts()"
   ]
  },
  {
   "cell_type": "markdown",
   "metadata": {},
   "source": [
    "# Merging"
   ]
  },
  {
   "cell_type": "code",
   "execution_count": 3,
   "metadata": {},
   "outputs": [],
   "source": [
    "# Merge 1-label and 2-label into one\n",
    "merged_df['class'] = merged_df['class'].replace({2: 1})"
   ]
  },
  {
   "cell_type": "code",
   "execution_count": 4,
   "metadata": {},
   "outputs": [
    {
     "data": {
      "text/plain": [
       "class\n",
       "1    21038\n",
       "0     6330\n",
       "Name: count, dtype: int64"
      ]
     },
     "execution_count": 4,
     "metadata": {},
     "output_type": "execute_result"
    }
   ],
   "source": [
    "merged_df['class'].value_counts()"
   ]
  },
  {
   "cell_type": "code",
   "execution_count": 5,
   "metadata": {},
   "outputs": [],
   "source": [
    "# Separate hate (class 0) and non-hate (class 1) rows\n",
    "hate_df = merged_df[merged_df['class'] == 0]\n",
    "non_hate_df = merged_df[merged_df['class'] == 1]\n",
    "\n",
    "# Randomly select the same number of non-hate rows as there are hate rows\n",
    "num_hate_rows = len(hate_df)\n",
    "random_non_hate_df = non_hate_df.sample(n=num_hate_rows, random_state=42)\n",
    "\n",
    "# Concatenate hate and randomly selected non-hate rows\n",
    "final_df = pd.concat([hate_df, random_non_hate_df])\n",
    "\n",
    "# Shuffle the final DataFrame to randomize the order\n",
    "final_df = final_df.sample(frac=1, random_state=42).reset_index(drop=True)"
   ]
  },
  {
   "cell_type": "code",
   "execution_count": 6,
   "metadata": {},
   "outputs": [
    {
     "name": "stdout",
     "output_type": "stream",
     "text": [
      "class\n",
      "0    6330\n",
      "1    6330\n",
      "Name: count, dtype: int64\n",
      "class\n",
      "0    0.5\n",
      "1    0.5\n",
      "Name: proportion, dtype: float64\n"
     ]
    }
   ],
   "source": [
    "print(final_df['class'].value_counts())\n",
    "# As percentages\n",
    "print(final_df['class'].value_counts(normalize=True))"
   ]
  },
  {
   "cell_type": "code",
   "execution_count": 7,
   "metadata": {},
   "outputs": [],
   "source": [
    "# save\n",
    "merged_df.to_csv(\"D:\\\\FYP\\\\Coding_Work\\\\AiLERT-FYP\\\\Paper-2\\\\New_Datasets\\\\OUTPUTS_data\\\\FR_GE_RO_PO_merged_hate_nonhate_50_50.csv\", index=False)"
   ]
  },
  {
   "cell_type": "code",
   "execution_count": null,
   "metadata": {},
   "outputs": [],
   "source": []
  }
 ],
 "metadata": {
  "kernelspec": {
   "display_name": "DCL",
   "language": "python",
   "name": "python3"
  },
  "language_info": {
   "codemirror_mode": {
    "name": "ipython",
    "version": 3
   },
   "file_extension": ".py",
   "mimetype": "text/x-python",
   "name": "python",
   "nbconvert_exporter": "python",
   "pygments_lexer": "ipython3",
   "version": "3.8.18"
  }
 },
 "nbformat": 4,
 "nbformat_minor": 2
}
