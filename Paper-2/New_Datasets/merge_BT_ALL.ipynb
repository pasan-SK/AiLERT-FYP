{
 "cells": [
  {
   "cell_type": "code",
   "execution_count": 1,
   "metadata": {},
   "outputs": [],
   "source": [
    "import pandas as pd\n",
    "\n",
    "# Paths to the original training dataset and back-translated datasets for each language\n",
    "ORIGINAL_TRAIN_DATASET_PATH = './Davidson-Original/train_ORIGINAL.csv'\n",
    "BACK_TRANSLATED_DATASET_PATHS = {\n",
    "    'Chinese': './OUTPUTS_data/CHINESE.csv',\n",
    "    'French': './OUTPUTS_data/FRENCH.csv',\n",
    "    'German': './OUTPUTS_data/GERMAN.csv',\n",
    "    'Romanian': './OUTPUTS_data/ROMANIAN.csv',\n",
    "    'Portuguese': './OUTPUTS_data/PORTUGUESE.csv',\n",
    "    'Japanese': './OUTPUTS_data/JAPANESE.csv'\n",
    "}\n",
    "\n",
    "# Read original training dataset\n",
    "original_df = pd.read_csv(ORIGINAL_TRAIN_DATASET_PATH)\n"
   ]
  },
  {
   "cell_type": "code",
   "execution_count": 2,
   "metadata": {},
   "outputs": [
    {
     "name": "stdout",
     "output_type": "stream",
     "text": [
      "(22304, 2)\n",
      "labels\n",
      "1    17285\n",
      "2     3753\n",
      "0     1266\n",
      "Name: count, dtype: int64\n"
     ]
    },
    {
     "data": {
      "text/html": [
       "<div>\n",
       "<style scoped>\n",
       "    .dataframe tbody tr th:only-of-type {\n",
       "        vertical-align: middle;\n",
       "    }\n",
       "\n",
       "    .dataframe tbody tr th {\n",
       "        vertical-align: top;\n",
       "    }\n",
       "\n",
       "    .dataframe thead th {\n",
       "        text-align: right;\n",
       "    }\n",
       "</style>\n",
       "<table border=\"1\" class=\"dataframe\">\n",
       "  <thead>\n",
       "    <tr style=\"text-align: right;\">\n",
       "      <th></th>\n",
       "      <th>text</th>\n",
       "      <th>labels</th>\n",
       "    </tr>\n",
       "  </thead>\n",
       "  <tbody>\n",
       "    <tr>\n",
       "      <th>0</th>\n",
       "      <td>Bitches ah have a baby &amp;amp; be like \"don't cl...</td>\n",
       "      <td>1</td>\n",
       "    </tr>\n",
       "    <tr>\n",
       "      <th>1</th>\n",
       "      <td>\"@ayyee_ceee_: One mans trash &amp;#128686; is ano...</td>\n",
       "      <td>2</td>\n",
       "    </tr>\n",
       "    <tr>\n",
       "      <th>2</th>\n",
       "      <td>RT @IKeepitRealer: ChrisBrown a bitch 4 hittin...</td>\n",
       "      <td>1</td>\n",
       "    </tr>\n",
       "    <tr>\n",
       "      <th>3</th>\n",
       "      <td>People comment on my fb statuses like \"How was...</td>\n",
       "      <td>1</td>\n",
       "    </tr>\n",
       "    <tr>\n",
       "      <th>4</th>\n",
       "      <td>RT @TreLeKidd: Yo bitch is Gucci Mane RT @Jaba...</td>\n",
       "      <td>1</td>\n",
       "    </tr>\n",
       "  </tbody>\n",
       "</table>\n",
       "</div>"
      ],
      "text/plain": [
       "                                                text  labels\n",
       "0  Bitches ah have a baby &amp; be like \"don't cl...       1\n",
       "1  \"@ayyee_ceee_: One mans trash &#128686; is ano...       2\n",
       "2  RT @IKeepitRealer: ChrisBrown a bitch 4 hittin...       1\n",
       "3  People comment on my fb statuses like \"How was...       1\n",
       "4  RT @TreLeKidd: Yo bitch is Gucci Mane RT @Jaba...       1"
      ]
     },
     "execution_count": 2,
     "metadata": {},
     "output_type": "execute_result"
    }
   ],
   "source": [
    "# Change column names \n",
    "original_df.columns = ['text', 'labels']\n",
    "\n",
    "print(original_df.shape)\n",
    "print(original_df['labels'].value_counts())\n",
    "original_df.head()"
   ]
  },
  {
   "cell_type": "code",
   "execution_count": 3,
   "metadata": {},
   "outputs": [
    {
     "name": "stdout",
     "output_type": "stream",
     "text": [
      "Chinese: (1265, 2)\n",
      "labels\n",
      "0    1265\n",
      "Name: count, dtype: int64\n",
      "French: (1266, 2)\n",
      "labels\n",
      "0    1266\n",
      "Name: count, dtype: int64\n",
      "German: (1266, 2)\n",
      "labels\n",
      "0    1266\n",
      "Name: count, dtype: int64\n",
      "Romanian: (1266, 2)\n",
      "labels\n",
      "0    1266\n",
      "Name: count, dtype: int64\n",
      "Portuguese: (1266, 2)\n",
      "labels\n",
      "0    1266\n",
      "Name: count, dtype: int64\n",
      "Japanese: (1266, 2)\n",
      "labels\n",
      "0    1266\n",
      "Name: count, dtype: int64\n"
     ]
    }
   ],
   "source": [
    "# Read and concatenate back-translated datasets\n",
    "dfs = [original_df]  # Start with the original dataset\n",
    "for language, path in BACK_TRANSLATED_DATASET_PATHS.items():\n",
    "    df = pd.read_csv(path)\n",
    "    dfs.append(df)\n",
    "    print(f'{language}: {df.shape}')\n",
    "    print(df['labels'].value_counts())\n"
   ]
  },
  {
   "cell_type": "code",
   "execution_count": 4,
   "metadata": {},
   "outputs": [],
   "source": [
    "merged_df = pd.concat(dfs, ignore_index=True)"
   ]
  },
  {
   "cell_type": "code",
   "execution_count": 5,
   "metadata": {},
   "outputs": [
    {
     "name": "stdout",
     "output_type": "stream",
     "text": [
      "(29899, 2)\n",
      "labels\n",
      "1    17285\n",
      "0     8861\n",
      "2     3753\n",
      "Name: count, dtype: int64\n"
     ]
    }
   ],
   "source": [
    "print(merged_df.shape)\n",
    "print(merged_df.labels.value_counts())"
   ]
  },
  {
   "cell_type": "code",
   "execution_count": 6,
   "metadata": {},
   "outputs": [],
   "source": [
    "# Rename columns\n",
    "merged_df.columns = ['tweet', 'class']"
   ]
  },
  {
   "cell_type": "code",
   "execution_count": 7,
   "metadata": {},
   "outputs": [
    {
     "data": {
      "text/html": [
       "<div>\n",
       "<style scoped>\n",
       "    .dataframe tbody tr th:only-of-type {\n",
       "        vertical-align: middle;\n",
       "    }\n",
       "\n",
       "    .dataframe tbody tr th {\n",
       "        vertical-align: top;\n",
       "    }\n",
       "\n",
       "    .dataframe thead th {\n",
       "        text-align: right;\n",
       "    }\n",
       "</style>\n",
       "<table border=\"1\" class=\"dataframe\">\n",
       "  <thead>\n",
       "    <tr style=\"text-align: right;\">\n",
       "      <th></th>\n",
       "      <th>tweet</th>\n",
       "      <th>class</th>\n",
       "    </tr>\n",
       "  </thead>\n",
       "  <tbody>\n",
       "    <tr>\n",
       "      <th>0</th>\n",
       "      <td>Bitches ah have a baby &amp;amp; be like \"don't cl...</td>\n",
       "      <td>1</td>\n",
       "    </tr>\n",
       "    <tr>\n",
       "      <th>1</th>\n",
       "      <td>\"@ayyee_ceee_: One mans trash &amp;#128686; is ano...</td>\n",
       "      <td>2</td>\n",
       "    </tr>\n",
       "    <tr>\n",
       "      <th>2</th>\n",
       "      <td>RT @IKeepitRealer: ChrisBrown a bitch 4 hittin...</td>\n",
       "      <td>1</td>\n",
       "    </tr>\n",
       "    <tr>\n",
       "      <th>3</th>\n",
       "      <td>People comment on my fb statuses like \"How was...</td>\n",
       "      <td>1</td>\n",
       "    </tr>\n",
       "    <tr>\n",
       "      <th>4</th>\n",
       "      <td>RT @TreLeKidd: Yo bitch is Gucci Mane RT @Jaba...</td>\n",
       "      <td>1</td>\n",
       "    </tr>\n",
       "  </tbody>\n",
       "</table>\n",
       "</div>"
      ],
      "text/plain": [
       "                                               tweet  class\n",
       "0  Bitches ah have a baby &amp; be like \"don't cl...      1\n",
       "1  \"@ayyee_ceee_: One mans trash &#128686; is ano...      2\n",
       "2  RT @IKeepitRealer: ChrisBrown a bitch 4 hittin...      1\n",
       "3  People comment on my fb statuses like \"How was...      1\n",
       "4  RT @TreLeKidd: Yo bitch is Gucci Mane RT @Jaba...      1"
      ]
     },
     "execution_count": 7,
     "metadata": {},
     "output_type": "execute_result"
    }
   ],
   "source": [
    "merged_df.head()"
   ]
  },
  {
   "cell_type": "code",
   "execution_count": 8,
   "metadata": {},
   "outputs": [],
   "source": [
    "# Save final dataset\n",
    "merged_df.to_csv('./OUTPUTS_data/ALL_merged.csv', index=False)"
   ]
  },
  {
   "cell_type": "code",
   "execution_count": null,
   "metadata": {},
   "outputs": [],
   "source": []
  }
 ],
 "metadata": {
  "kernelspec": {
   "display_name": "DCL",
   "language": "python",
   "name": "python3"
  },
  "language_info": {
   "codemirror_mode": {
    "name": "ipython",
    "version": 3
   },
   "file_extension": ".py",
   "mimetype": "text/x-python",
   "name": "python",
   "nbconvert_exporter": "python",
   "pygments_lexer": "ipython3",
   "version": "3.8.18"
  }
 },
 "nbformat": 4,
 "nbformat_minor": 2
}
